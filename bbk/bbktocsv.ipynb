{
 "cells": [
  {
   "cell_type": "code",
   "execution_count": 49,
   "metadata": {},
   "outputs": [],
   "source": [
    "#read input file\n",
    "fin = open(\"/Users/jannylund/bbk/first.txt\", \"rt\")\n",
    "fout = open(\"/Users/jannylund/bbk/firstout.txt\", \"wt\")\n",
    "newdata=\"\""
   ]
  },
  {
   "cell_type": "code",
   "execution_count": 50,
   "metadata": {},
   "outputs": [],
   "source": [
    "for line in fin:\n",
    "    #read replace the string and write to output file\n",
    "    data = (line.replace(\"CEST\\n\", \"CEST',\"))\n",
    "    newdata=newdata + data + \"\\n\"\n",
    "    "
   ]
  },
  {
   "cell_type": "code",
   "execution_count": 18,
   "metadata": {},
   "outputs": [],
   "source": [
    "#read file contents to string\n",
    "data = fin.read()"
   ]
  },
  {
   "cell_type": "code",
   "execution_count": 19,
   "metadata": {},
   "outputs": [],
   "source": [
    "#replace all occurrences of the required string\n",
    "data = data.replace(\"CEST\\n\", \"CEST',\")\n",
    "#close the input file"
   ]
  },
  {
   "cell_type": "code",
   "execution_count": 29,
   "metadata": {},
   "outputs": [],
   "source": [
    "fin.close()\n",
    "#open the input file in write mode"
   ]
  },
  {
   "cell_type": "code",
   "execution_count": 46,
   "metadata": {},
   "outputs": [],
   "source": [
    "#fin = open(\"data.txt\", \"wt\")\n",
    "#overrite the input file with the resulting data\n",
    "#fin.write(data)\n",
    "#close the file\n",
    "fin.close()\n",
    "fout.close()\n"
   ]
  },
  {
   "cell_type": "code",
   "execution_count": 51,
   "metadata": {},
   "outputs": [
    {
     "data": {
      "text/plain": [
       "'74.3694 17.1195 6.70098 sth401e17fd7\\n'"
      ]
     },
     "execution_count": 51,
     "metadata": {},
     "output_type": "execute_result"
    }
   ],
   "source": [
    "data"
   ]
  },
  {
   "cell_type": "code",
   "execution_count": 52,
   "metadata": {},
   "outputs": [
    {
     "data": {
      "text/plain": [
       "\"Mon 03 May 2021 02:54:17 PM CEST',\\n34.761 19.215 7.407 sth20154f60e\\n\\nMon 03 May 2021 03:00:01 PM CEST',\\n83.540 13.806 4.568 sth201a81f6a\\n\\nMon 03 May 2021 03:05:54 PM CEST',\\n43.5464 16.5644 6.15218 sth401fb5c76\\n\\nMon 03 May 2021 03:07:54 PM CEST',\\n34.8419 19.4192 8.63358 sth2019dca1a\\n\\nMon 03 May 2021 03:10:54 PM CEST',\\n36.5738 9.04358 7.35671 sth2012f5ca5\\n\\nMon 03 May 2021 03:20:54 PM CEST',\\n34.962 10.7224 8.35166 sth401a637b6\\n\\nMon 03 May 2021 03:22:08 PM CEST',\\n34.9698 11.5219 7.8022 sth201236fed\\n\\nMon 03 May 2021 03:30:01 PM CEST',\\n34.9484 17.3069 7.17028 sth40195c9b0\\n\\nMon 03 May 2021 03:40:01 PM CEST',\\n34.9809 6.05998 5.84202 sth201afde91\\n\\nMon 03 May 2021 03:50:01 PM CEST',\\n56.902 21.0146 7.60497 sth201fb69ac\\n\\nMon 03 May 2021 04:00:01 PM CEST',\\n34.9555 16.2439 7.11624 sth4016cfd16\\n\\nMon 03 May 2021 04:10:01 PM CEST',\\n34.9992 18.0659 7.16579 sth2015b3a41\\n\\nMon 03 May 2021 04:20:01 PM CEST',\\n34.9541 13.7746 7.13653 sth401aa5530\\n\\nMon 03 May 2021 04:30:01 PM CEST',\\n37.833 13.5365 6.83312 sth401015c18\\n\\nMon 03 May 2021 04:40:01 PM CEST',\\n38.497 13.7008 6.35786 sth4018ac8e2\\n\\nMon 03 May 2021 04:50:01 PM CEST',\\n34.9293 16.6054 6.88286 sth40177019d\\n\\nMon 03 May 2021 05:00:01 PM CEST',\\n34.7898 9.26934 7.12969 sth401a48bdf\\n\\nMon 03 May 2021 05:10:01 PM CEST',\\n52.1093 11.4944 7.49756 sth4016781ce\\n\\nMon 03 May 2021 05:20:01 PM CEST',\\n34.9438 14.9521 7.08029 sth4018a6522\\n\\nMon 03 May 2021 05:30:01 PM CEST',\\n34.7953 12.0593 7.34704 sth4015257ed\\n\\nMon 03 May 2021 05:40:02 PM CEST',\\n71.1942 17.5091 6.92983 sth201d874ac\\n\\nMon 03 May 2021 05:50:01 PM CEST',\\n74.3694 17.1195 6.70098 sth401e17fd7\\n\\n\""
      ]
     },
     "execution_count": 52,
     "metadata": {},
     "output_type": "execute_result"
    }
   ],
   "source": [
    "newdata"
   ]
  },
  {
   "cell_type": "code",
   "execution_count": null,
   "metadata": {},
   "outputs": [],
   "source": []
  }
 ],
 "metadata": {
  "kernelspec": {
   "display_name": "Python 3",
   "language": "python",
   "name": "python3"
  },
  "language_info": {
   "codemirror_mode": {
    "name": "ipython",
    "version": 3
   },
   "file_extension": ".py",
   "mimetype": "text/x-python",
   "name": "python",
   "nbconvert_exporter": "python",
   "pygments_lexer": "ipython3",
   "version": "3.8.5"
  }
 },
 "nbformat": 4,
 "nbformat_minor": 4
}
