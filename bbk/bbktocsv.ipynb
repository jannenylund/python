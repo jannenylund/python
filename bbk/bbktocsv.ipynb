{
 "cells": [
  {
   "cell_type": "code",
   "execution_count": 9,
   "metadata": {},
   "outputs": [],
   "source": [
    "#read input file\n",
    "#fin = open(\"/Users/jannylund/bbk/first.txt\", \"rt\")\n",
    "#fout = open(\"/Users/jannylund/bbk/firstout.txt\", \"wt\")\n",
    "try:\n",
    "    fin.close()\n",
    "    fout.close()\n",
    "except NameError:\n",
    "    print(\"parametrar var inte definierade, normalt om det var första körningen.\")\n",
    "\n",
    "fin = open(r\"C:\\Users\\nylund\\Onedrive-Privat\\OneDrive\\jannesgit\\python\\bbk\\bbk\\tele2outsample.txt\", \"rt\")\n",
    "fout = open(r\"C:\\Users\\nylund\\Onedrive-Privat\\OneDrive\\jannesgit\\python\\bbk\\bbk\\secondoutsample.txt\", \"wt\")\n",
    "\n",
    "newdata=\"\"\n",
    "newline=\"\"\n",
    "#for line in fin:\n",
    "#    print(line)"
   ]
  },
  {
   "cell_type": "code",
   "execution_count": 10,
   "metadata": {},
   "outputs": [
    {
     "name": "stdout",
     "output_type": "stream",
     "text": [
      "2021-05-03 \n",
      "12\n",
      "2021-05-03 \n",
      "12\n",
      "2021-05-04 \n",
      "2021-05-04 \n",
      "2021-05-06 \n",
      "2021-05-06 \n",
      "2021-05-06 \n",
      "12\n",
      "2021-05-06 \n",
      "12\n",
      "2021-05-07 \n",
      "12\n",
      "2021-05-07 \n",
      "12\n",
      "2021-05-07 \n",
      "12\n",
      "2021-05-07 \n",
      "12\n",
      "2021-05-07 \n",
      "12\n",
      "2021-05-25 \n",
      "2021-05-25 \n",
      "12\n",
      "2021-05-25 \n",
      "12\n",
      "2021-05-25 \n",
      "12\n",
      "2021-05-25 \n",
      "12\n",
      "2021-05-25 \n",
      "12\n"
     ]
    }
   ],
   "source": [
    "for line in fin:\n",
    "    #print(line)\n",
    "    \n",
    "    #read replace the string and add to newdata string\n",
    "    if line.find('CEST')!=-1:\n",
    "        #Ta bort veckodag\n",
    "        data = (line[len(line)-(len(line)-4):])\n",
    "        #print(data)\n",
    "        data = (data[:len(data)-5])\n",
    "        newline = newline + data[7:11]\n",
    "        newline = newline + '-05-' + data[:2] + ' '\n",
    "        print(newline)\n",
    "        if data.find('PM')!=-1:\n",
    "            hour=12\n",
    "            print(hour)\n",
    "            if data[12:14].find('12')!=1:\n",
    "                hour=int(data[12:14])+12\n",
    "                #print(str(hour) + 'i loop')\n",
    "        else:\n",
    "            hour=int(data[12:14])\n",
    "            if hour==12:\n",
    "                hour=0\n",
    "        \n",
    "        if hour < 10:\n",
    "            newline = newline + '0'\n",
    "        newline = newline + str(hour)\n",
    "        newline = newline + data[14:20]\n",
    "        data = \"'\" + newline + \"',\"\n",
    "        #print(data + ' ' + newline + str(hour))\n",
    "        newline=\"\"\n",
    "        #data = (line.replace(\"CEST\\n\", \"CEST',\"))\n",
    "        #data = (data.replace(' ', '-'))\n",
    "        #data = \"'\" + data\n",
    "    else:\n",
    "        data = (line.replace(\"CEST\\n\", \"CEST',\"))\n",
    "        data = (data.replace(' ', ','))\n",
    "        data = (data.replace('sth', \"'sth\"))\n",
    "        data = (data.replace('\\n', \"'\\n\"))\n",
    "        \n",
    "    newdata=newdata + data\n",
    "    "
   ]
  },
  {
   "cell_type": "code",
   "execution_count": 5,
   "metadata": {},
   "outputs": [],
   "source": [
    "#open the input file in write mode\n",
    "#fin = open(\"data.txt\", \"wt\")\n",
    "#overrite the input file with the resulting data\n",
    "fout.write(newdata)\n",
    "#close the file\n",
    "fin.close()\n",
    "fout.close()\n"
   ]
  },
  {
   "cell_type": "code",
   "execution_count": 6,
   "metadata": {},
   "outputs": [
    {
     "data": {
      "text/plain": [
       "\"35.0258,12.8967,6.47404,gbg2045c8ea5'\\n\""
      ]
     },
     "execution_count": 6,
     "metadata": {},
     "output_type": "execute_result"
    }
   ],
   "source": [
    "data"
   ]
  },
  {
   "cell_type": "code",
   "execution_count": 5,
   "metadata": {},
   "outputs": [
    {
     "data": {
      "text/plain": [
       "\"'2021-05-03 18:00:01',76.8036,5.71812,5.05579,'sth2014b258e'\\n'2021-05-03 23:40:01',34.9949,14.7051,6.92357,'sth401e81248'\\n'2021-05-04 00:00:01',41.1252,13.2953,5.58681,'sth4018d4cf1'\\n'2021-05-04 00:10:01',38.1105,14.0105,3.00149,'sth401080b8d'\\n'2021-05-06 00:00:01',39.6466,5.6508,16.448,gbg20b30b061'\\n'2021-05-06 11:50:01',39.6776,17.7429,16.8202,gbg208b08e06'\\n'2021-05-06 24:00:01',45.454,9.89835,14.8243,gbg208f2b553'\\n'2021-05-06 24:10:01',48.1132,15.0086,17.5482,gbg2088c17d1'\\n'2021-05-07 16:30:01',-1,-1,-1,no_support_ID'\\n'2021-05-07 16:40:01',-1,-1,-1,no_support_ID'\\n'2021-05-07 16:50:01',-1,-1,-1,no_support_ID'\\n'2021-05-07 17:00:01',-1,-1,-1,no_support_ID'\\n'2021-05-07 17:10:01',-1,-1,-1,no_support_ID'\\n'2021-05-25 11:50:01',38.706,8.41403,5.79615,gbg20435e226'\\n'2021-05-25 24:00:01',38.2422,11.7665,6.35084,gbg2045d91a4'\\n'2021-05-25 24:10:01',35.8432,10.5446,6.25425,gbg204f716ee'\\n'2021-05-25 24:20:01',37.705,11.8002,6.88503,gbg20429f632'\\n'2021-05-25 24:30:01',36.6586,10.3086,4.52637,gbg204a0b5ff'\\n'2021-05-25 24:40:01',35.0258,12.8967,6.47404,gbg2045c8ea5'\\n\""
      ]
     },
     "execution_count": 5,
     "metadata": {},
     "output_type": "execute_result"
    }
   ],
   "source": [
    "newdata"
   ]
  },
  {
   "cell_type": "code",
   "execution_count": null,
   "metadata": {},
   "outputs": [],
   "source": []
  }
 ],
 "metadata": {
  "kernelspec": {
   "display_name": "Python 3",
   "language": "python",
   "name": "python3"
  },
  "language_info": {
   "codemirror_mode": {
    "name": "ipython",
    "version": 3
   },
   "file_extension": ".py",
   "mimetype": "text/x-python",
   "name": "python",
   "nbconvert_exporter": "python",
   "pygments_lexer": "ipython3",
   "version": "3.8.8"
  }
 },
 "nbformat": 4,
 "nbformat_minor": 4
}
