{
 "cells": [
  {
   "cell_type": "code",
   "execution_count": 70,
   "metadata": {},
   "outputs": [],
   "source": [
    "#read input file\n",
    "#fin = open(\"/Users/jannylund/bbk/first.txt\", \"rt\")\n",
    "#fout = open(\"/Users/jannylund/bbk/firstout.txt\", \"wt\")\n",
    "#fin.close()\n",
    "#fout.close()\n",
    "fin = open(r\"C:\\Users\\nylund\\Onedrive-Privat\\OneDrive\\jannesgit\\python\\bbk\\bbk\\out20210506.txt\", \"rt\")\n",
    "fout = open(r\"C:\\Users\\nylund\\Onedrive-Privat\\OneDrive\\jannesgit\\python\\bbk\\bbk\\secondout.txt\", \"wt\")\n",
    "\n",
    "newdata=\"\"\n",
    "newline=\"\"\n"
   ]
  },
  {
   "cell_type": "raw",
   "metadata": {},
   "source": [
    "for line in fin:\n",
    "    print(line)\n",
    "    #read replace the string and add to newdata string\n",
    "    if line.find('CEST')!=-1:\n",
    "        data = (line[len(line)-(len(line)-4):])\n",
    "        data = (data[:len(data)-5])\n",
    "        newline = newline + data[7:11]\n",
    "        newline = newline + '-05-' + data[:2] + ' '\n",
    "        if data.find('PM')==1:\n",
    "            hour=12\n",
    "            if data[12:14].find('12')!=1:\n",
    "                hour=data[12:14]+12\n",
    "        \n",
    "        #newline = newline + str(hour)\n",
    "        \n",
    "        \n",
    "        print(data + ' ' + newline)\n",
    "        newline=\"\"\n",
    "        data = (line.replace(\"CEST\\n\", \"CEST',\"))\n",
    "        data = (data.replace(' ', '-'))\n",
    "        data = \"'\" + data\n",
    "    else:\n",
    "        data = (line.replace(\"CEST\\n\", \"CEST',\"))\n",
    "        data = (data.replace(' ', ','))\n",
    "        data = (data.replace('sth', \"'sth\"))\n",
    "        data = (data.replace('\\n', \"'\\n\"))\n",
    "        \n",
    "    newdata=newdata + data\n",
    "    "
   ]
  },
  {
   "cell_type": "code",
   "execution_count": 71,
   "metadata": {},
   "outputs": [],
   "source": [
    "#open the input file in write mode\n",
    "#fin = open(\"data.txt\", \"wt\")\n",
    "#overrite the input file with the resulting data\n",
    "#fout.write(newdata)\n",
    "#close the file\n",
    "fin.close()\n",
    "fout.close()\n"
   ]
  },
  {
   "cell_type": "code",
   "execution_count": 72,
   "metadata": {},
   "outputs": [
    {
     "data": {
      "text/plain": [
       "'03 May 2021 06:00:01 PM '"
      ]
     },
     "execution_count": 72,
     "metadata": {},
     "output_type": "execute_result"
    }
   ],
   "source": [
    "data"
   ]
  },
  {
   "cell_type": "code",
   "execution_count": 73,
   "metadata": {},
   "outputs": [
    {
     "data": {
      "text/plain": [
       "''"
      ]
     },
     "execution_count": 73,
     "metadata": {},
     "output_type": "execute_result"
    }
   ],
   "source": [
    "newdata"
   ]
  },
  {
   "cell_type": "code",
   "execution_count": null,
   "metadata": {},
   "outputs": [],
   "source": []
  }
 ],
 "metadata": {
  "kernelspec": {
   "display_name": "Python 3",
   "language": "python",
   "name": "python3"
  },
  "language_info": {
   "codemirror_mode": {
    "name": "ipython",
    "version": 3
   },
   "file_extension": ".py",
   "mimetype": "text/x-python",
   "name": "python",
   "nbconvert_exporter": "python",
   "pygments_lexer": "ipython3",
   "version": "3.8.5"
  }
 },
 "nbformat": 4,
 "nbformat_minor": 4
}
